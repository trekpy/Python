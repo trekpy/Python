{
 "cells": [
  {
   "cell_type": "markdown",
   "id": "d75b0f88-c7ff-46b8-bf33-cf573d720824",
   "metadata": {},
   "source": [
    "## Python OOPS - Magic Methods in Classes"
   ]
  },
  {
   "cell_type": "code",
   "execution_count": 19,
   "id": "6ee0e4d7-8939-430f-af53-1c4aaf09dd19",
   "metadata": {},
   "outputs": [],
   "source": [
    "## All the class variables are public\n",
    "## Car blueprint\n",
    "\n",
    "class Car():\n",
    "    def __init__(self,windows,doors,enginetype):\n",
    "        self.windows=windows\n",
    "        self.doors=doors\n",
    "        self.enginetype=enginetype\n",
    "    \n",
    "    def drive(self):\n",
    "        print(\"The person drives the car\")"
   ]
  },
  {
   "cell_type": "code",
   "execution_count": 21,
   "id": "615dd020-1b73-4181-996e-5b267c24a149",
   "metadata": {},
   "outputs": [],
   "source": [
    "c=Car(4,5,\"Diesel\")"
   ]
  },
  {
   "cell_type": "code",
   "execution_count": 23,
   "id": "cf9ec63c-9b66-4292-9b46-29d8f3d7a8bb",
   "metadata": {},
   "outputs": [
    {
     "name": "stdout",
     "output_type": "stream",
     "text": [
      "The object has been initialized\n"
     ]
    }
   ],
   "source": [
    "print(c) ## here we are getting __main__ so we can overwrite this"
   ]
  },
  {
   "cell_type": "code",
   "execution_count": 13,
   "id": "098b9906-2e5a-4bfb-a329-cc3db6aeb5af",
   "metadata": {},
   "outputs": [
    {
     "data": {
      "text/plain": [
       "['__class__',\n",
       " '__delattr__',\n",
       " '__dict__',\n",
       " '__dir__',\n",
       " '__doc__',\n",
       " '__eq__',\n",
       " '__format__',\n",
       " '__ge__',\n",
       " '__getattribute__',\n",
       " '__getstate__',\n",
       " '__gt__',\n",
       " '__hash__',\n",
       " '__init__',\n",
       " '__init_subclass__',\n",
       " '__le__',\n",
       " '__lt__',\n",
       " '__module__',\n",
       " '__ne__',\n",
       " '__new__',\n",
       " '__reduce__',\n",
       " '__reduce_ex__',\n",
       " '__repr__',\n",
       " '__setattr__',\n",
       " '__sizeof__',\n",
       " '__str__',\n",
       " '__subclasshook__',\n",
       " '__weakref__',\n",
       " 'doors',\n",
       " 'drive',\n",
       " 'enginetype',\n",
       " 'windows']"
      ]
     },
     "execution_count": 13,
     "metadata": {},
     "output_type": "execute_result"
    }
   ],
   "source": [
    "dir(c) ## the methods inside it are coming like__class__,__dict__ are known as magic methods and we can overwrite these methods"
   ]
  },
  {
   "cell_type": "code",
   "execution_count": 25,
   "id": "d01fef6b-d607-45e3-86dd-ef75ebe0e041",
   "metadata": {},
   "outputs": [],
   "source": [
    "class Car():\n",
    "    def __init__(self,windows,doors,enginetype):\n",
    "        self.windows=windows\n",
    "        self.doors=doors\n",
    "        self.enginetype=enginetype\n",
    "    def __str__(self):\n",
    "        return \"The object has been initialized\"\n",
    "        \n",
    "    def drive(self):\n",
    "        print(\"The person drives the car\")"
   ]
  },
  {
   "cell_type": "code",
   "execution_count": 27,
   "id": "558c23d2-dc1d-4f25-b417-e3daba6c0cb9",
   "metadata": {},
   "outputs": [],
   "source": [
    "c=Car(4,5,\"Diesel\")"
   ]
  },
  {
   "cell_type": "code",
   "execution_count": 29,
   "id": "fa032680-4740-449b-aa5c-f9b12f2bec48",
   "metadata": {},
   "outputs": [
    {
     "name": "stdout",
     "output_type": "stream",
     "text": [
      "The object has been initialized\n"
     ]
    }
   ],
   "source": [
    "print(c)"
   ]
  },
  {
   "cell_type": "code",
   "execution_count": 47,
   "id": "4e5e3d55-eecb-49bf-a04b-25549e5ada23",
   "metadata": {},
   "outputs": [
    {
     "data": {
      "text/plain": [
       "16"
      ]
     },
     "execution_count": 47,
     "metadata": {},
     "output_type": "execute_result"
    }
   ],
   "source": [
    "c.__sizeof__() # here we are getting the size of the entire c format i.e. 16 bytes\n",
    "# we can overwrite this too"
   ]
  },
  {
   "cell_type": "code",
   "execution_count": 49,
   "id": "b092a6e8-f0d6-41e0-8472-84efbc5ffb88",
   "metadata": {},
   "outputs": [],
   "source": [
    "class Car():\n",
    "    def __init__(self,windows,doors,enginetype):\n",
    "        self.windows=windows\n",
    "        self.doors=doors\n",
    "        self.enginetype=enginetype\n",
    "    def __str__(self):\n",
    "        return \"The object has been initialized\"\n",
    "\n",
    "    def __sizeof__(self):\n",
    "        return \"This displays the size of an object\"\n",
    "        \n",
    "    def drive(self):\n",
    "        print(\"The person drives the car\")\n",
    "        "
   ]
  },
  {
   "cell_type": "code",
   "execution_count": 45,
   "id": "8619597d-47d4-4226-86e3-5e50c26dfc4d",
   "metadata": {},
   "outputs": [
    {
     "data": {
      "text/plain": [
       "16"
      ]
     },
     "execution_count": 45,
     "metadata": {},
     "output_type": "execute_result"
    }
   ],
   "source": [
    "c.__sizeof__()"
   ]
  },
  {
   "cell_type": "code",
   "execution_count": null,
   "id": "a87b79d2-b5ac-4490-abf4-220c78dc367f",
   "metadata": {},
   "outputs": [],
   "source": []
  }
 ],
 "metadata": {
  "kernelspec": {
   "display_name": "Python 3 (ipykernel)",
   "language": "python",
   "name": "python3"
  },
  "language_info": {
   "codemirror_mode": {
    "name": "ipython",
    "version": 3
   },
   "file_extension": ".py",
   "mimetype": "text/x-python",
   "name": "python",
   "nbconvert_exporter": "python",
   "pygments_lexer": "ipython3",
   "version": "3.12.7"
  }
 },
 "nbformat": 4,
 "nbformat_minor": 5
}
