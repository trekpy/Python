{
 "cells": [
  {
   "cell_type": "markdown",
   "id": "a3cdad5b-be53-4edf-8323-3d90a4b895db",
   "metadata": {},
   "source": [
    "# PYTHON LIST ITERABLES & ITERATORS\n",
    "- we use iterators , suppose your list is having millions of elements and for each and every element as u initialise it in the list it gets stored in the memory that much memory will be required but if we convert that whole thing into an iterartor ill not require that much memory unless and until ill not call that particular element it will not get initialized in the memory"
   ]
  },
  {
   "cell_type": "code",
   "execution_count": 71,
   "id": "982c0393-e90c-4d07-b8c0-d1049b504306",
   "metadata": {},
   "outputs": [
    {
     "name": "stdout",
     "output_type": "stream",
     "text": [
      "2\n",
      "3\n",
      "4\n",
      "5\n",
      "1\n",
      "6\n",
      "7\n",
      "8\n",
      "90\n",
      "87\n"
     ]
    }
   ],
   "source": [
    "lst=[2,3,4,5,1,6,7,8,90,87]\n",
    "for i in lst:\n",
    "    print(i)"
   ]
  },
  {
   "cell_type": "code",
   "execution_count": 73,
   "id": "fbeda18d-239c-4fdc-82a1-635a75dc4fd4",
   "metadata": {},
   "outputs": [],
   "source": [
    "lst1=iter(lst) # once we call the \"next\" in-built function then only that first element that present inside the iterator will be initialized in the memory"
   ]
  },
  {
   "cell_type": "code",
   "execution_count": 75,
   "id": "0b6e2714-5add-4406-9e28-8161f004ba1a",
   "metadata": {},
   "outputs": [
    {
     "data": {
      "text/plain": [
       "2"
      ]
     },
     "execution_count": 75,
     "metadata": {},
     "output_type": "execute_result"
    }
   ],
   "source": [
    "next(lst1) #jitni baar execute krege utni baar next value milegi like first 2 will get stored in the memory then 2 then 3 then 4 \n",
    "# the values in list gets initialised in the memory one by one"
   ]
  },
  {
   "cell_type": "code",
   "execution_count": 77,
   "id": "7f422d09-a917-48e6-8dde-eea5fbdac240",
   "metadata": {},
   "outputs": [
    {
     "name": "stdout",
     "output_type": "stream",
     "text": [
      "3\n",
      "4\n",
      "5\n",
      "1\n",
      "6\n",
      "7\n",
      "8\n",
      "90\n",
      "87\n"
     ]
    }
   ],
   "source": [
    "# iterables can also be retrive using for loop and iterators also for loop can be actually implemented\n",
    "for i in lst1:\n",
    "    print(i) # here it will print the second element as the first element is executed in \"next\""
   ]
  },
  {
   "cell_type": "code",
   "execution_count": null,
   "id": "dcfd0915-8baa-47be-bded-2f9ee9b96f54",
   "metadata": {},
   "outputs": [],
   "source": []
  },
  {
   "cell_type": "markdown",
   "id": "4973105c-a91d-46d3-bee2-9abafae01028",
   "metadata": {},
   "source": [
    "## iterators & generators"
   ]
  },
  {
   "cell_type": "code",
   "execution_count": 9,
   "id": "2d419f63-574e-4d18-a8d1-9d865824d79a",
   "metadata": {},
   "outputs": [
    {
     "name": "stdout",
     "output_type": "stream",
     "text": [
      "1\n",
      "2\n",
      "3\n",
      "4\n",
      "5\n"
     ]
    }
   ],
   "source": [
    "#iteration\n",
    "\n",
    "lst=[1,2,3,4,5]\n",
    "for i in lst:\n",
    "    print(i)"
   ]
  },
  {
   "cell_type": "code",
   "execution_count": 46,
   "id": "d5d9eeae-8c81-472f-a634-bfa0e24a4e0d",
   "metadata": {},
   "outputs": [],
   "source": [
    "## iterator\n",
    "iterable=iter(lst)"
   ]
  },
  {
   "cell_type": "code",
   "execution_count": 42,
   "id": "7c3fe7a8-cc30-4194-aba1-ac44dbed639d",
   "metadata": {},
   "outputs": [],
   "source": [
    "## we can also iterate the iterable\n",
    "for i in iterable:\n",
    "    print(i)"
   ]
  },
  {
   "cell_type": "code",
   "execution_count": 38,
   "id": "0d074ada-4cce-4c86-919d-08fe3a8066cf",
   "metadata": {},
   "outputs": [
    {
     "ename": "StopIteration",
     "evalue": "",
     "output_type": "error",
     "traceback": [
      "\u001b[1;31m---------------------------------------------------------------------------\u001b[0m",
      "\u001b[1;31mStopIteration\u001b[0m                             Traceback (most recent call last)",
      "Cell \u001b[1;32mIn[38], line 1\u001b[0m\n\u001b[1;32m----> 1\u001b[0m \u001b[38;5;28mnext\u001b[39m(iterable)\n",
      "\u001b[1;31mStopIteration\u001b[0m: "
     ]
    }
   ],
   "source": [
    "next(iterable)"
   ]
  },
  {
   "cell_type": "code",
   "execution_count": 50,
   "id": "18883e11-9590-4dd4-b2d2-745c236535b7",
   "metadata": {},
   "outputs": [
    {
     "name": "stdout",
     "output_type": "stream",
     "text": [
      "2\n"
     ]
    }
   ],
   "source": [
    "## we can also use try except block for exception\n",
    "\n",
    "try:\n",
    "    print(next(iterable))\n",
    "except StopIteration:\n",
    "    print(\"The iterator is empty\")"
   ]
  },
  {
   "cell_type": "code",
   "execution_count": 54,
   "id": "c48dcf4e-71a8-4980-a968-07c937c1fd1b",
   "metadata": {},
   "outputs": [
    {
     "data": {
      "text/plain": [
       "0"
      ]
     },
     "execution_count": 54,
     "metadata": {},
     "output_type": "execute_result"
    }
   ],
   "source": [
    "## Generator\n",
    "\n",
    "def square(n):\n",
    "    for i in range (n):\n",
    "        return i**2\n",
    "square(3)        \n",
    "#here the first value will come 0"
   ]
  },
  {
   "cell_type": "code",
   "execution_count": 56,
   "id": "92d8e958-f7fc-4b6a-b7bf-b9d771bdf655",
   "metadata": {},
   "outputs": [],
   "source": [
    "def square(n):\n",
    "    for i in range (n):\n",
    "        yield i**2 # yield will make the entire function an iterator but it is a kind of generator. \n",
    "# Generator: generators are used in order to create iterator"
   ]
  },
  {
   "cell_type": "code",
   "execution_count": 58,
   "id": "1c361110-617d-4b1d-837e-d53daead3451",
   "metadata": {},
   "outputs": [
    {
     "data": {
      "text/plain": [
       "<generator object square at 0x0000024A78838AD0>"
      ]
     },
     "execution_count": 58,
     "metadata": {},
     "output_type": "execute_result"
    }
   ],
   "source": [
    " square (3)"
   ]
  },
  {
   "cell_type": "code",
   "execution_count": 60,
   "id": "d53e2c2e-2f34-4501-a0d0-95e6fbd4ae0f",
   "metadata": {},
   "outputs": [],
   "source": [
    "def square(n):\n",
    "    for i in range (n):\n",
    "        yield i**2 "
   ]
  },
  {
   "cell_type": "code",
   "execution_count": 62,
   "id": "b259df9c-daf6-4b31-94c8-03e82aef99ea",
   "metadata": {},
   "outputs": [
    {
     "name": "stdout",
     "output_type": "stream",
     "text": [
      "0\n",
      "1\n",
      "4\n"
     ]
    }
   ],
   "source": [
    "for i in  square (3):\n",
    "    print(i) # the loop is printing the first value as square of 0 second square of 1 and then square of 2"
   ]
  },
  {
   "cell_type": "markdown",
   "id": "e0647378-e544-4b6d-8501-037fb0274c84",
   "metadata": {},
   "source": [
    "## Difference \n",
    "1. To create iterator we use iter() keyword and for generator we  function along with yield keyword.\n",
    "2. Generator uses yield keyword and it saves the local variable value and can also return the local variable value.\n",
    "3. Generator in Python helps us to write fast and compact code\n",
    "4. Python Iterator is much more memory efficient"
   ]
  },
  {
   "cell_type": "code",
   "execution_count": null,
   "id": "14fcea3c-49ca-4adb-b2e1-3c69f546c0ec",
   "metadata": {},
   "outputs": [],
   "source": []
  }
 ],
 "metadata": {
  "kernelspec": {
   "display_name": "Python 3 (ipykernel)",
   "language": "python",
   "name": "python3"
  },
  "language_info": {
   "codemirror_mode": {
    "name": "ipython",
    "version": 3
   },
   "file_extension": ".py",
   "mimetype": "text/x-python",
   "name": "python",
   "nbconvert_exporter": "python",
   "pygments_lexer": "ipython3",
   "version": "3.12.7"
  }
 },
 "nbformat": 4,
 "nbformat_minor": 5
}
