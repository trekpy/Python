{
 "cells": [
  {
   "cell_type": "markdown",
   "id": "7ccefd3f-2926-4501-b4f0-d7c10aa6147e",
   "metadata": {},
   "source": [
    "# list comprehension\n",
    "- it provides easy way to create a list\n",
    "- it consist of brackets containing an expression followed by a for clause,then zero or more for OR if clauses.\n",
    "- the expression can be anything meaning u can put in all kinds of objects in lists"
   ]
  },
  {
   "cell_type": "code",
   "execution_count": 2,
   "id": "100c4148-96da-4952-b7f7-baf203c6f6c8",
   "metadata": {},
   "outputs": [
    {
     "data": {
      "text/plain": [
       "[4, 9, 16, 25, 36, 49, 64, 81]"
      ]
     },
     "execution_count": 2,
     "metadata": {},
     "output_type": "execute_result"
    }
   ],
   "source": [
    "#normal zindagi\n",
    "\n",
    "lst1=[]\n",
    "\n",
    "def lst_square(lst):\n",
    "    for i in lst:\n",
    "        lst1.append(i*i)\n",
    "    return lst1\n",
    "lst_square([2,3,4,5,6,7,8,9])"
   ]
  },
  {
   "cell_type": "code",
   "execution_count": 6,
   "id": "0c991b4c-104d-41f7-9c2d-6546b54acfa9",
   "metadata": {},
   "outputs": [
    {
     "data": {
      "text/plain": [
       "[4, 16, 36, 64]"
      ]
     },
     "execution_count": 6,
     "metadata": {},
     "output_type": "execute_result"
    }
   ],
   "source": [
    "# mentos zindAGI\n",
    "lst=[2,3,4,5,6,7,8,9]\n",
    "[i*i for i in lst  ] # this is list comprehension"
   ]
  },
  {
   "cell_type": "code",
   "execution_count": 8,
   "id": "389007a8-e36a-4bb5-bf28-899e0270aba7",
   "metadata": {},
   "outputs": [
    {
     "data": {
      "text/plain": [
       "[4, 16, 36, 64]"
      ]
     },
     "execution_count": 8,
     "metadata": {},
     "output_type": "execute_result"
    }
   ],
   "source": [
    "# you can also use if clause after for condition\n",
    "[i*i for i in lst if i%2==0] # first i will iteration through the list and after that go to if condition and then i*i\n"
   ]
  },
  {
   "cell_type": "code",
   "execution_count": null,
   "id": "5f41d32d-b463-42f6-9456-490fccf406d0",
   "metadata": {},
   "outputs": [],
   "source": []
  }
 ],
 "metadata": {
  "kernelspec": {
   "display_name": "Python 3 (ipykernel)",
   "language": "python",
   "name": "python3"
  },
  "language_info": {
   "codemirror_mode": {
    "name": "ipython",
    "version": 3
   },
   "file_extension": ".py",
   "mimetype": "text/x-python",
   "name": "python",
   "nbconvert_exporter": "python",
   "pygments_lexer": "ipython3",
   "version": "3.12.7"
  }
 },
 "nbformat": 4,
 "nbformat_minor": 5
}
