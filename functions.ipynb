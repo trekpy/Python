{
 "cells": [
  {
   "cell_type": "code",
   "execution_count": 2,
   "id": "9c8f9e12-21ef-4522-a53a-0d22a856eef4",
   "metadata": {},
   "outputs": [],
   "source": [
    "def even_sum(num):\n",
    "    if num%2==0:\n",
    "        print(\"number is even\")\n",
    "    else:\n",
    "        print(\"number is odd\")\n",
    "        "
   ]
  },
  {
   "cell_type": "code",
   "execution_count": 4,
   "id": "17caa171-505b-427c-aaa6-a2c85a7b643d",
   "metadata": {},
   "outputs": [
    {
     "name": "stdout",
     "output_type": "stream",
     "text": [
      "number is odd\n"
     ]
    }
   ],
   "source": [
    "even_sum(35)"
   ]
  },
  {
   "cell_type": "code",
   "execution_count": 6,
   "id": "f3830077-4035-4c37-a99a-5caaf6bcd01e",
   "metadata": {},
   "outputs": [],
   "source": [
    "#print vs return\n",
    "\n",
    "def add_num(num1,num2):\n",
    "    print(num1+num2)"
   ]
  },
  {
   "cell_type": "code",
   "execution_count": 8,
   "id": "6881dfc4-b9a4-46d9-b635-b6e80da97294",
   "metadata": {},
   "outputs": [
    {
     "name": "stdout",
     "output_type": "stream",
     "text": [
      "89\n"
     ]
    }
   ],
   "source": [
    "x=add_num(2,87)"
   ]
  },
  {
   "cell_type": "code",
   "execution_count": 12,
   "id": "dea7a6ea-339e-48a0-81b8-806495df703f",
   "metadata": {},
   "outputs": [
    {
     "ename": "NameError",
     "evalue": "name 'x' is not defined",
     "output_type": "error",
     "traceback": [
      "\u001b[1;31m---------------------------------------------------------------------------\u001b[0m",
      "\u001b[1;31mNameError\u001b[0m                                 Traceback (most recent call last)",
      "Cell \u001b[1;32mIn[12], line 1\u001b[0m\n\u001b[1;32m----> 1\u001b[0m x\n",
      "\u001b[1;31mNameError\u001b[0m: name 'x' is not defined"
     ]
    }
   ],
   "source": [
    "x # here it will not return anything"
   ]
  },
  {
   "cell_type": "code",
   "execution_count": 14,
   "id": "59624e88-5d9a-493e-9bce-b0dc1502408e",
   "metadata": {},
   "outputs": [],
   "source": [
    "def add_num(num1,num2):\n",
    "    return num1+num2\n",
    "    \n",
    "      "
   ]
  },
  {
   "cell_type": "code",
   "execution_count": 16,
   "id": "b08e4dfe-3141-4073-86d1-7c6f8ec88213",
   "metadata": {},
   "outputs": [],
   "source": [
    "x=add_num(23,1)"
   ]
  },
  {
   "cell_type": "code",
   "execution_count": 18,
   "id": "bb6cfbe7-0d6d-4255-be48-ef344f415358",
   "metadata": {},
   "outputs": [
    {
     "data": {
      "text/plain": [
       "24"
      ]
     },
     "execution_count": 18,
     "metadata": {},
     "output_type": "execute_result"
    }
   ],
   "source": [
    "x"
   ]
  },
  {
   "cell_type": "markdown",
   "id": "fc1f32c2-3464-4a87-a91e-bba90d04f8ff",
   "metadata": {},
   "source": [
    "## positional and keyword arguments"
   ]
  },
  {
   "cell_type": "code",
   "execution_count": 21,
   "id": "817f5264-52bf-4a7c-af40-54d5f761b922",
   "metadata": {},
   "outputs": [],
   "source": [
    "def even_odd(*args,**kwargs):\n",
    "    print(args)\n",
    "    print(kwargs)\n",
    "    "
   ]
  },
  {
   "cell_type": "code",
   "execution_count": 23,
   "id": "1dfb83a6-9860-47b5-8bab-1a79b43f2cff",
   "metadata": {},
   "outputs": [
    {
     "name": "stdout",
     "output_type": "stream",
     "text": [
      "('riya', 'hello', 'beautiful')\n",
      "{'age': 20, 'dob': 2005}\n"
     ]
    }
   ],
   "source": [
    "even_odd('riya','hello','beautiful',age=20,dob=2005)"
   ]
  },
  {
   "cell_type": "code",
   "execution_count": 25,
   "id": "bcd89e6a-8c6e-4604-b2a2-4762c20c5842",
   "metadata": {},
   "outputs": [],
   "source": [
    "lst=['riya', 'hello', 'beautiful']\n",
    "dict_args={'age': 20, 'dob': 2005}\n"
   ]
  },
  {
   "cell_type": "code",
   "execution_count": 27,
   "id": "e914cca8-8967-428b-afb1-c509ab0269bc",
   "metadata": {},
   "outputs": [
    {
     "name": "stdout",
     "output_type": "stream",
     "text": [
      "('riya', 'hello', 'beautiful')\n",
      "{'age': 20, 'dob': 2005}\n"
     ]
    }
   ],
   "source": [
    "even_odd(*lst,**dict_args)"
   ]
  },
  {
   "cell_type": "code",
   "execution_count": 29,
   "id": "c629e1b4-1e77-4922-9c5e-fffdfb9fb4e5",
   "metadata": {},
   "outputs": [],
   "source": [
    "lst=[1,2,3,4,5,6,7,8,9]\n"
   ]
  },
  {
   "cell_type": "code",
   "execution_count": 37,
   "id": "4b0ad535-7845-4813-b53a-bea6d98eb5f9",
   "metadata": {},
   "outputs": [],
   "source": [
    "def evenoddsum(lst):\n",
    "    even_sum=0\n",
    "    odd_sum=0\n",
    "    for i in lst:\n",
    "        if i%2==0:\n",
    "            even_sum=even_sum+i\n",
    "        else:\n",
    "            odd_sum=odd_sum+i\n",
    "    return even_sum,odd_sum        "
   ]
  },
  {
   "cell_type": "code",
   "execution_count": 39,
   "id": "40d27d84-819b-4da1-8eb5-a1690bc81a38",
   "metadata": {},
   "outputs": [
    {
     "data": {
      "text/plain": [
       "(20, 25)"
      ]
     },
     "execution_count": 39,
     "metadata": {},
     "output_type": "execute_result"
    }
   ],
   "source": [
    "evenoddsum(lst)"
   ]
  },
  {
   "cell_type": "markdown",
   "id": "a4033536-6593-4261-a4a8-d22432bc1e42",
   "metadata": {},
   "source": [
    "## LAMDA FUNCTION\n",
    "- anonymous function :function with no name & works faster than normal function"
   ]
  },
  {
   "cell_type": "code",
   "execution_count": 43,
   "id": "383875b1-033e-4626-905c-60908799f1ac",
   "metadata": {},
   "outputs": [
    {
     "data": {
      "text/plain": [
       "8"
      ]
     },
     "execution_count": 43,
     "metadata": {},
     "output_type": "execute_result"
    }
   ],
   "source": [
    "# normal function\n",
    "def addition(a,b):\n",
    "    return a+b\n",
    "addition(2,6)    "
   ]
  },
  {
   "cell_type": "code",
   "execution_count": 45,
   "id": "35842b8f-16cb-4a22-8643-3d73bdd07f4f",
   "metadata": {},
   "outputs": [],
   "source": [
    "## lambda function is only possible if you have single operation like a+b\n",
    "addition=lambda a,b:a+b\n"
   ]
  },
  {
   "cell_type": "code",
   "execution_count": 47,
   "id": "deab060e-b0e0-4d28-b28b-c74c3077ba61",
   "metadata": {},
   "outputs": [
    {
     "data": {
      "text/plain": [
       "28"
      ]
     },
     "execution_count": 47,
     "metadata": {},
     "output_type": "execute_result"
    }
   ],
   "source": [
    "addition(23,5)"
   ]
  },
  {
   "cell_type": "code",
   "execution_count": 49,
   "id": "20ad11a6-f2c6-4ce1-b869-06c925bf43f8",
   "metadata": {},
   "outputs": [
    {
     "data": {
      "text/plain": [
       "True"
      ]
     },
     "execution_count": 49,
     "metadata": {},
     "output_type": "execute_result"
    }
   ],
   "source": [
    "# ex-2\n",
    "def even(num):\n",
    "    if num%2==0:\n",
    "        return True\n",
    "even(12)        "
   ]
  },
  {
   "cell_type": "code",
   "execution_count": 51,
   "id": "e1aa7ebe-b00d-4828-bbfc-aa4a80b7612b",
   "metadata": {},
   "outputs": [],
   "source": [
    "#lambda function\n",
    "even=lambda a:a%2==0\n"
   ]
  },
  {
   "cell_type": "code",
   "execution_count": 53,
   "id": "d1975560-6652-4295-825b-a36da5c48cb2",
   "metadata": {},
   "outputs": [
    {
     "data": {
      "text/plain": [
       "False"
      ]
     },
     "execution_count": 53,
     "metadata": {},
     "output_type": "execute_result"
    }
   ],
   "source": [
    "even(31)"
   ]
  },
  {
   "cell_type": "code",
   "execution_count": 55,
   "id": "836f56b7-725a-4796-bf63-a05740fbba0e",
   "metadata": {},
   "outputs": [],
   "source": [
    "addition=lambda x,y,z: x+y+z\n"
   ]
  },
  {
   "cell_type": "code",
   "execution_count": 57,
   "id": "636fb8f4-4119-43fd-9ece-8786a2750855",
   "metadata": {},
   "outputs": [
    {
     "data": {
      "text/plain": [
       "11"
      ]
     },
     "execution_count": 57,
     "metadata": {},
     "output_type": "execute_result"
    }
   ],
   "source": [
    "addition(2,4,5)"
   ]
  },
  {
   "cell_type": "markdown",
   "id": "4bac1b98-c863-4935-b36a-b24c1c3ac5d5",
   "metadata": {},
   "source": [
    "## MAP FUNCTION IN PYTHON"
   ]
  },
  {
   "cell_type": "code",
   "execution_count": 60,
   "id": "bda31dfa-9a89-4006-8263-900c25f91113",
   "metadata": {},
   "outputs": [
    {
     "data": {
      "text/plain": [
       "'The number 23 is odd'"
      ]
     },
     "execution_count": 60,
     "metadata": {},
     "output_type": "execute_result"
    }
   ],
   "source": [
    "#normal zindagi\n",
    "\n",
    "def even_or_odd(num):\n",
    "    if num%2==0:\n",
    "        return \"The number {} is even\".format(num)\n",
    "    else:\n",
    "        return \"The number {} is odd\".format(num)\n",
    "even_or_odd(23)        "
   ]
  },
  {
   "cell_type": "code",
   "execution_count": 62,
   "id": "7aacc55e-020e-4f4e-8eee-905d4a83ea64",
   "metadata": {},
   "outputs": [],
   "source": [
    "# mentos zindagi\n",
    "lst=[1,2,45,67,83,3,9,50,53,11,22,111]\n"
   ]
  },
  {
   "cell_type": "code",
   "execution_count": 64,
   "id": "4de09326-a754-4e1d-8311-c07f4ac93fe2",
   "metadata": {},
   "outputs": [
    {
     "data": {
      "text/plain": [
       "['The number 1 is odd',\n",
       " 'The number 2 is even',\n",
       " 'The number 45 is odd',\n",
       " 'The number 67 is odd',\n",
       " 'The number 83 is odd',\n",
       " 'The number 3 is odd',\n",
       " 'The number 9 is odd',\n",
       " 'The number 50 is even',\n",
       " 'The number 53 is odd',\n",
       " 'The number 11 is odd',\n",
       " 'The number 22 is even',\n",
       " 'The number 111 is odd']"
      ]
     },
     "execution_count": 64,
     "metadata": {},
     "output_type": "execute_result"
    }
   ],
   "source": [
    "list(map(even_or_odd,lst))# parameters: 1 is function name and another is iterable"
   ]
  },
  {
   "cell_type": "markdown",
   "id": "6637b33c-9d2f-4f73-923b-280b2ed17524",
   "metadata": {},
   "source": [
    "## FILTER FUNCTION\n"
   ]
  },
  {
   "cell_type": "code",
   "execution_count": 88,
   "id": "b4d4bdc2-e680-4c08-aa6f-2970f38c1772",
   "metadata": {},
   "outputs": [],
   "source": [
    "def even(num):\n",
    "    if num%2==0:\n",
    "        return True\n"
   ]
  },
  {
   "cell_type": "code",
   "execution_count": 90,
   "id": "ab18c018-4010-4678-9e00-4f3508e6292f",
   "metadata": {},
   "outputs": [],
   "source": [
    "lst=[1,4,3,2,5,67,97,3,4,32]"
   ]
  },
  {
   "cell_type": "code",
   "execution_count": 92,
   "id": "3ba25bfc-4184-4b93-9664-b4c3dc31a230",
   "metadata": {},
   "outputs": [
    {
     "data": {
      "text/plain": [
       "[4, 2, 4, 32]"
      ]
     },
     "execution_count": 92,
     "metadata": {},
     "output_type": "execute_result"
    }
   ],
   "source": [
    "list(filter(even,lst))"
   ]
  },
  {
   "cell_type": "code",
   "execution_count": 94,
   "id": "87289436-67d6-48b4-8816-9e7f3a267c00",
   "metadata": {},
   "outputs": [
    {
     "data": {
      "text/plain": [
       "[4, 2, 4, 32]"
      ]
     },
     "execution_count": 94,
     "metadata": {},
     "output_type": "execute_result"
    }
   ],
   "source": [
    "#double mentos zindagi\n",
    "\n",
    "list(filter(lambda num:num%2==0,lst))"
   ]
  },
  {
   "cell_type": "code",
   "execution_count": 96,
   "id": "2fa441ae-34f0-4c68-a811-7a4083deca99",
   "metadata": {},
   "outputs": [
    {
     "data": {
      "text/plain": [
       "[False, True, False, True, False, False, False, False, True, True]"
      ]
     },
     "execution_count": 96,
     "metadata": {},
     "output_type": "execute_result"
    }
   ],
   "source": [
    "list(map(lambda num:num%2==0,lst)) # for map function"
   ]
  },
  {
   "cell_type": "code",
   "execution_count": null,
   "id": "02102bf3-50b9-4240-a8af-c32c46d11543",
   "metadata": {},
   "outputs": [],
   "source": []
  }
 ],
 "metadata": {
  "kernelspec": {
   "display_name": "Python 3 (ipykernel)",
   "language": "python",
   "name": "python3"
  },
  "language_info": {
   "codemirror_mode": {
    "name": "ipython",
    "version": 3
   },
   "file_extension": ".py",
   "mimetype": "text/x-python",
   "name": "python",
   "nbconvert_exporter": "python",
   "pygments_lexer": "ipython3",
   "version": "3.12.7"
  }
 },
 "nbformat": 4,
 "nbformat_minor": 5
}
