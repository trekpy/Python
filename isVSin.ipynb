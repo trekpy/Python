{
 "cells": [
  {
   "cell_type": "markdown",
   "id": "5a5d9cec-0827-4fe1-999c-7997abf6abe3",
   "metadata": {},
   "source": [
    "# is vs in(==)"
   ]
  },
  {
   "cell_type": "code",
   "execution_count": 2,
   "id": "28c893cb-7f60-4352-afa1-a6185f79a229",
   "metadata": {},
   "outputs": [
    {
     "data": {
      "text/plain": [
       "True"
      ]
     },
     "execution_count": 2,
     "metadata": {},
     "output_type": "execute_result"
    }
   ],
   "source": [
    "lst1=[\"Riya\",\"Alita\",\"Kitty\"]\n",
    "lst2=[\"Riya\",\"Alita\",\"Kitty\"]\n",
    "\n",
    "lst1==lst2"
   ]
  },
  {
   "cell_type": "code",
   "execution_count": 8,
   "id": "4360e6e1-651d-41d1-96a7-2d01f5eb8113",
   "metadata": {},
   "outputs": [
    {
     "data": {
      "text/plain": [
       "False"
      ]
     },
     "execution_count": 8,
     "metadata": {},
     "output_type": "execute_result"
    }
   ],
   "source": [
    "lst1=[\"Riya\",\"Alita\",\"Kitty\"]\n",
    "lst2=[\"Riya\",\"Alita\",\"Kitty\"]\n",
    "\n",
    "lst1 is lst2"
   ]
  },
  {
   "cell_type": "code",
   "execution_count": 6,
   "id": "5a0b7153-7b98-45db-81ac-4749f1dfe61b",
   "metadata": {},
   "outputs": [
    {
     "data": {
      "text/plain": [
       "True"
      ]
     },
     "execution_count": 6,
     "metadata": {},
     "output_type": "execute_result"
    }
   ],
   "source": [
    "lst1=[\"Riya\",\"Alita\",\"Kitty\"]\n",
    "lst2=lst1\n",
    "lst1 is lst2"
   ]
  },
  {
   "cell_type": "code",
   "execution_count": null,
   "id": "0fad2a20-516a-4c7f-bb69-bfd4180e471f",
   "metadata": {},
   "outputs": [],
   "source": []
  }
 ],
 "metadata": {
  "kernelspec": {
   "display_name": "Python 3 (ipykernel)",
   "language": "python",
   "name": "python3"
  },
  "language_info": {
   "codemirror_mode": {
    "name": "ipython",
    "version": 3
   },
   "file_extension": ".py",
   "mimetype": "text/x-python",
   "name": "python",
   "nbconvert_exporter": "python",
   "pygments_lexer": "ipython3",
   "version": "3.12.7"
  }
 },
 "nbformat": 4,
 "nbformat_minor": 5
}
