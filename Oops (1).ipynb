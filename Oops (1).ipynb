{
 "cells": [
  {
   "cell_type": "code",
   "execution_count": 14,
   "id": "b460a2ff-0a7c-4ae7-a83b-21321eb14dd6",
   "metadata": {},
   "outputs": [],
   "source": [
    "class Car:\n",
    "   # pass\n",
    "    def __init__(self,window,door,enginetype):\n",
    "        \n",
    "            self.windows=window\n",
    "            self.doors=door\n",
    "            self.enginetypes=enginetype\n",
    "    def self_driving(self):\n",
    "        return \"This is a {} car\".format(self.enginetypes)"
   ]
  },
  {
   "cell_type": "code",
   "execution_count": 16,
   "id": "4c1f6d5c-d237-4a80-82ba-1af549940e1a",
   "metadata": {},
   "outputs": [],
   "source": [
    "#car1=Car() \n",
    "#car1\n",
    "#car1.windows=5\n",
    "#car1.doors=3\n",
    "\n",
    "#print(car1.windows)"
   ]
  },
  {
   "cell_type": "code",
   "execution_count": 18,
   "id": "a29ed056-6a60-47ee-9812-50e4a063fb86",
   "metadata": {},
   "outputs": [],
   "source": [
    "car1=Car(4,5,\"petrol\")  #2. the parameters indide the Car is initialized for __init__\n",
    "#3. the car1 object is set for self.windows and others\n",
    "car2=Car(3,2,\"diesel\")"
   ]
  },
  {
   "cell_type": "code",
   "execution_count": 20,
   "id": "68d54350-acf4-4c95-84c7-5de4ad1b87fc",
   "metadata": {},
   "outputs": [
    {
     "name": "stdout",
     "output_type": "stream",
     "text": [
      "4\n",
      "2\n"
     ]
    },
    {
     "data": {
      "text/plain": [
       "'This is a petrol car'"
      ]
     },
     "execution_count": 20,
     "metadata": {},
     "output_type": "execute_result"
    }
   ],
   "source": [
    "print(car1.windows)\n",
    "print(car2.doors)\n",
    "car1.self_driving()"
   ]
  },
  {
   "cell_type": "code",
   "execution_count": 21,
   "id": "4a0bc7b2-0cfe-423a-a846-b0b30080051c",
   "metadata": {},
   "outputs": [
    {
     "name": "stdout",
     "output_type": "stream",
     "text": [
      "petrol\n"
     ]
    }
   ],
   "source": [
    "# car2=Car()\n",
    "# car2\n",
    "\n",
    "# car2.enginetype=\"petrol\"\n",
    "# print(car2.enginetype) #1.here the user can add how much they want and this is a bad approach as we used pass"
   ]
  },
  {
   "cell_type": "code",
   "execution_count": null,
   "id": "76c3c0e0-61c4-4c00-ad7a-c9b95490c222",
   "metadata": {},
   "outputs": [],
   "source": []
  }
 ],
 "metadata": {
  "kernelspec": {
   "display_name": "Python 3 (ipykernel)",
   "language": "python",
   "name": "python3"
  },
  "language_info": {
   "codemirror_mode": {
    "name": "ipython",
    "version": 3
   },
   "file_extension": ".py",
   "mimetype": "text/x-python",
   "name": "python",
   "nbconvert_exporter": "python",
   "pygments_lexer": "ipython3",
   "version": "3.12.7"
  }
 },
 "nbformat": 4,
 "nbformat_minor": 5
}
