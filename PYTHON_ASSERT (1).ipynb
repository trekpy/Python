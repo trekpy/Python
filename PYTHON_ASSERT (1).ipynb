{
 "cells": [
  {
   "cell_type": "markdown",
   "id": "2409c00e-4614-458f-a7b0-beb95db4b96b",
   "metadata": {},
   "source": [
    "## PYTHON ASSERT\n",
    "\n",
    "- Python provides the assert statement to check if a given logical expression is true or false.\n",
    "- program execution proceeds only if the expresssion is true and raises the AssertionError when it is false. "
   ]
  },
  {
   "cell_type": "code",
   "execution_count": 5,
   "id": "4d9477f6-04f8-400b-a187-49c0df70b920",
   "metadata": {},
   "outputs": [],
   "source": [
    "num=10\n",
    "assert num>=10 # it does not give any error"
   ]
  },
  {
   "cell_type": "markdown",
   "id": "e5b173d1-5fef-4ca8-8605-9a52f073a029",
   "metadata": {},
   "source": []
  },
  {
   "cell_type": "code",
   "execution_count": 8,
   "id": "452b62f8-3051-4f76-9fc0-12ace38d255e",
   "metadata": {},
   "outputs": [
    {
     "ename": "AssertionError",
     "evalue": "",
     "output_type": "error",
     "traceback": [
      "\u001b[1;31m---------------------------------------------------------------------------\u001b[0m",
      "\u001b[1;31mAssertionError\u001b[0m                            Traceback (most recent call last)",
      "Cell \u001b[1;32mIn[8], line 2\u001b[0m\n\u001b[0;32m      1\u001b[0m num\u001b[38;5;241m=\u001b[39m\u001b[38;5;241m10\u001b[39m\n\u001b[1;32m----> 2\u001b[0m \u001b[38;5;28;01massert\u001b[39;00m num\u001b[38;5;241m>\u001b[39m\u001b[38;5;241m10\u001b[39m\n",
      "\u001b[1;31mAssertionError\u001b[0m: "
     ]
    }
   ],
   "source": [
    "num=10\n",
    "assert num>10 #here it raises an assertion error "
   ]
  },
  {
   "cell_type": "code",
   "execution_count": 18,
   "id": "4c36286f-084c-4673-bc71-26f7b70dbc3e",
   "metadata": {},
   "outputs": [
    {
     "name": "stdin",
     "output_type": "stream",
     "text": [
      "enter a number 24\n"
     ]
    },
    {
     "name": "stdout",
     "output_type": "stream",
     "text": [
      "no.is even\n"
     ]
    }
   ],
   "source": [
    "try:\n",
    "    num=int(input(\"enter a number\"))\n",
    "    assert num%2==0\n",
    "    print(\"no.is even\")\n",
    "    \n",
    "except AssertionError:\n",
    "    print(\"please enter an even number\")"
   ]
  },
  {
   "cell_type": "code",
   "execution_count": null,
   "id": "64fb27ed-5443-4992-998e-ffd06c05c758",
   "metadata": {},
   "outputs": [],
   "source": []
  }
 ],
 "metadata": {
  "kernelspec": {
   "display_name": "Python 3 (ipykernel)",
   "language": "python",
   "name": "python3"
  },
  "language_info": {
   "codemirror_mode": {
    "name": "ipython",
    "version": 3
   },
   "file_extension": ".py",
   "mimetype": "text/x-python",
   "name": "python",
   "nbconvert_exporter": "python",
   "pygments_lexer": "ipython3",
   "version": "3.12.7"
  }
 },
 "nbformat": 4,
 "nbformat_minor": 5
}
