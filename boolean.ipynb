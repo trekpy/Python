{
 "cells": [
  {
   "cell_type": "code",
   "execution_count": 8,
   "id": "6f4c8a69-b86d-4c2b-9ea1-7e12b26b9867",
   "metadata": {
    "scrolled": true
   },
   "outputs": [
    {
     "data": {
      "text/plain": [
       "bool"
      ]
     },
     "execution_count": 8,
     "metadata": {},
     "output_type": "execute_result"
    }
   ],
   "source": [
    "type(True)\n"
   ]
  },
  {
   "cell_type": "code",
   "execution_count": 4,
   "id": "3f877560-60d6-44ee-98bf-59b85a62d010",
   "metadata": {},
   "outputs": [
    {
     "data": {
      "text/plain": [
       "float"
      ]
     },
     "execution_count": 4,
     "metadata": {},
     "output_type": "execute_result"
    }
   ],
   "source": [
    "type(2.0)"
   ]
  },
  {
   "cell_type": "code",
   "execution_count": 6,
   "id": "c6a5de30-e1a2-4e5c-951c-67b2580e8baa",
   "metadata": {},
   "outputs": [
    {
     "data": {
      "text/plain": [
       "int"
      ]
     },
     "execution_count": 6,
     "metadata": {},
     "output_type": "execute_result"
    }
   ],
   "source": [
    "type(2)"
   ]
  },
  {
   "cell_type": "code",
   "execution_count": null,
   "id": "35443e7e-4f30-4714-98ed-157f272dee82",
   "metadata": {},
   "outputs": [],
   "source": []
  },
  {
   "cell_type": "code",
   "execution_count": 14,
   "id": "f0aedab4-d5a5-4736-b318-897353006704",
   "metadata": {},
   "outputs": [
    {
     "name": "stdout",
     "output_type": "stream",
     "text": [
      "True\n",
      "True\n",
      "False\n",
      "False\n",
      "False\n",
      "False\n",
      "False\n",
      "False\n",
      "True\n"
     ]
    }
   ],
   "source": [
    "my_str=\"RiyaSharma\"\n",
    "\n",
    "print(my_str.isalnum())\n",
    "print(my_str.isalpha())\n",
    "print(my_str.isdigit())\n",
    "print(my_str.istitle())\n",
    "print(my_str.isupper())\n",
    "print(my_str.islower())\n",
    "print(my_str.isspace())\n",
    "print(my_str.endswith('d'))\n",
    "print(my_str.startswith('R'))"
   ]
  },
  {
   "cell_type": "code",
   "execution_count": 16,
   "id": "1ea74ca6-dc42-4acc-a4b8-7edca6610a23",
   "metadata": {},
   "outputs": [
    {
     "data": {
      "text/plain": [
       "True"
      ]
     },
     "execution_count": 16,
     "metadata": {},
     "output_type": "execute_result"
    }
   ],
   "source": [
    "True and True"
   ]
  },
  {
   "cell_type": "code",
   "execution_count": 18,
   "id": "6ef533b1-3c90-41e8-bb47-29131bce605c",
   "metadata": {},
   "outputs": [
    {
     "data": {
      "text/plain": [
       "False"
      ]
     },
     "execution_count": 18,
     "metadata": {},
     "output_type": "execute_result"
    }
   ],
   "source": [
    "True and False"
   ]
  },
  {
   "cell_type": "code",
   "execution_count": 20,
   "id": "c6746e16-96a1-4cf0-afa4-2d4c36e0c2a0",
   "metadata": {},
   "outputs": [
    {
     "data": {
      "text/plain": [
       "True"
      ]
     },
     "execution_count": 20,
     "metadata": {},
     "output_type": "execute_result"
    }
   ],
   "source": [
    "True or True"
   ]
  },
  {
   "cell_type": "code",
   "execution_count": 23,
   "id": "4b9e0451-b90a-4cb3-9f6f-7b559cd55625",
   "metadata": {},
   "outputs": [
    {
     "data": {
      "text/plain": [
       "True"
      ]
     },
     "execution_count": 23,
     "metadata": {},
     "output_type": "execute_result"
    }
   ],
   "source": [
    "True or False"
   ]
  },
  {
   "cell_type": "code",
   "execution_count": 27,
   "id": "a1c6737e-dd80-4999-8a4e-d76729ad891d",
   "metadata": {},
   "outputs": [
    {
     "data": {
      "text/plain": [
       "True"
      ]
     },
     "execution_count": 27,
     "metadata": {},
     "output_type": "execute_result"
    }
   ],
   "source": [
    "my_str='Riya'\n",
    "str1=\"hello world\"\n",
    "\n",
    "my_str or str1\n",
    "my_str.isalpha() or str1.isnum()"
   ]
  },
  {
   "cell_type": "markdown",
   "id": "bc395e49-fdab-45fd-8b32-6e3d683432d6",
   "metadata": {},
   "source": [
    "# LISTS\n"
   ]
  },
  {
   "cell_type": "markdown",
   "id": "a0b19090-5250-4b1a-9c8a-4471a64b6d98",
   "metadata": {},
   "source": [
    "- A list is a data structure in Python that is mutable or changeble,ordered sequence of elements. Each element or value that is inside of a list is called an item. "
   ]
  },
  {
   "cell_type": "code",
   "execution_count": 34,
   "id": "affa59f8-e780-487b-9657-607c9ac76559",
   "metadata": {},
   "outputs": [
    {
     "data": {
      "text/plain": [
       "list"
      ]
     },
     "execution_count": 34,
     "metadata": {},
     "output_type": "execute_result"
    }
   ],
   "source": [
    "type([])"
   ]
  },
  {
   "cell_type": "code",
   "execution_count": 38,
   "id": "b83729f1-e27d-4b1d-b5c3-29d2b9a4711f",
   "metadata": {},
   "outputs": [
    {
     "data": {
      "text/plain": [
       "5"
      ]
     },
     "execution_count": 38,
     "metadata": {},
     "output_type": "execute_result"
    }
   ],
   "source": [
    "lst=[\"Riya\", \"intellegent\",\"mathematics\",1,2.0]\n",
    "type(lst)\n",
    "len(lst)"
   ]
  },
  {
   "cell_type": "markdown",
   "id": "c2dcee96-3306-4b39-93e0-a47cf44ae932",
   "metadata": {},
   "source": [
    "## Append\n"
   ]
  },
  {
   "cell_type": "code",
   "execution_count": 43,
   "id": "56502fe3-6673-4231-8a35-566f50381f3d",
   "metadata": {},
   "outputs": [],
   "source": [
    "lst.append(\"Sharma\")"
   ]
  },
  {
   "cell_type": "code",
   "execution_count": 45,
   "id": "f4c8c648-6f1a-40a2-a6f8-a96965b01601",
   "metadata": {},
   "outputs": [
    {
     "data": {
      "text/plain": [
       "['Riya', 'intellegent', 'mathematics', 1, 2.0, 'Sharma']"
      ]
     },
     "execution_count": 45,
     "metadata": {},
     "output_type": "execute_result"
    }
   ],
   "source": [
    "lst"
   ]
  },
  {
   "cell_type": "markdown",
   "id": "8f810812-9aa9-4919-b9e1-db37e88957a0",
   "metadata": {},
   "source": [
    "## Indexing in lists"
   ]
  },
  {
   "cell_type": "code",
   "execution_count": 48,
   "id": "830d1042-929b-491a-8d1b-ff70cd313496",
   "metadata": {},
   "outputs": [
    {
     "data": {
      "text/plain": [
       "2.0"
      ]
     },
     "execution_count": 48,
     "metadata": {},
     "output_type": "execute_result"
    }
   ],
   "source": [
    "lst[4]"
   ]
  },
  {
   "cell_type": "code",
   "execution_count": 62,
   "id": "c4e3a217-da98-4071-a2e3-e3c7bc3aa441",
   "metadata": {},
   "outputs": [
    {
     "data": {
      "text/plain": [
       "['intellegent', 'mathematics', 1, 2.0]"
      ]
     },
     "execution_count": 62,
     "metadata": {},
     "output_type": "execute_result"
    }
   ],
   "source": [
    "lst[:-1]\n",
    "lst[-1::]\n",
    "lst[1:5]"
   ]
  },
  {
   "cell_type": "markdown",
   "id": "71a0fc37-0c8f-447f-9cba-a900a0108f56",
   "metadata": {},
   "source": [
    "## Insert"
   ]
  },
  {
   "cell_type": "code",
   "execution_count": 67,
   "id": "8af3d1b0-69b0-44af-8618-78f099c9e8a4",
   "metadata": {},
   "outputs": [
    {
     "data": {
      "text/plain": [
       "['Riya', 'Sharma', 'intellegent', 'mathematics', 1, 2.0, 'Sharma']"
      ]
     },
     "execution_count": 67,
     "metadata": {},
     "output_type": "execute_result"
    }
   ],
   "source": [
    "lst.insert(1,\"Sharma\")\n",
    "lst"
   ]
  },
  {
   "cell_type": "markdown",
   "id": "530ca4f3-ab49-43b0-9e21-c0e24b59acaa",
   "metadata": {},
   "source": [
    "## EXTEND METHOD"
   ]
  },
  {
   "cell_type": "code",
   "execution_count": 70,
   "id": "e42bbc49-ef6e-407e-8918-8c95823dd50e",
   "metadata": {},
   "outputs": [],
   "source": [
    "lst.extend([99,100])"
   ]
  },
  {
   "cell_type": "code",
   "execution_count": 72,
   "id": "23639fce-c360-496f-aac5-994ca7dde2f8",
   "metadata": {},
   "outputs": [
    {
     "data": {
      "text/plain": [
       "['Riya', 'Sharma', 'intellegent', 'mathematics', 1, 2.0, 'Sharma', 99, 100]"
      ]
     },
     "execution_count": 72,
     "metadata": {},
     "output_type": "execute_result"
    }
   ],
   "source": [
    "lst"
   ]
  },
  {
   "cell_type": "code",
   "execution_count": 88,
   "id": "31463c08-77f5-4773-a07a-5c4fbc6ab8c8",
   "metadata": {},
   "outputs": [
    {
     "data": {
      "text/plain": [
       "[1, 2, 3, 5, 6, 8]"
      ]
     },
     "execution_count": 88,
     "metadata": {},
     "output_type": "execute_result"
    }
   ],
   "source": [
    "lst=[1,2,3,5,6,7,8]\n",
    "sum(lst)\n",
    "(lst)\n",
    "lst.pop(5)\n",
    "lst"
   ]
  },
  {
   "cell_type": "code",
   "execution_count": 100,
   "id": "d50c91a6-3271-4a60-8ec3-fd5a38d1a607",
   "metadata": {},
   "outputs": [
    {
     "data": {
      "text/plain": [
       "8"
      ]
     },
     "execution_count": 100,
     "metadata": {},
     "output_type": "execute_result"
    }
   ],
   "source": [
    "lst=[1,1,2,2,4,5,2,9,2,2,2,2,2]\n",
    "lst.count(2)"
   ]
  },
  {
   "cell_type": "code",
   "execution_count": 102,
   "id": "5d7fd80e-f785-4af0-ac53-2c3966d26534",
   "metadata": {},
   "outputs": [
    {
     "data": {
      "text/plain": [
       "7"
      ]
     },
     "execution_count": 102,
     "metadata": {},
     "output_type": "execute_result"
    }
   ],
   "source": [
    "lst.index(9)"
   ]
  },
  {
   "cell_type": "code",
   "execution_count": 104,
   "id": "2ab47469-f78b-4d89-9344-0b4acdfb5db7",
   "metadata": {},
   "outputs": [
    {
     "data": {
      "text/plain": [
       "1"
      ]
     },
     "execution_count": 104,
     "metadata": {},
     "output_type": "execute_result"
    }
   ],
   "source": [
    "min(lst)\n"
   ]
  },
  {
   "cell_type": "code",
   "execution_count": 106,
   "id": "d9076ecb-8c8c-479d-ad5c-dbf39d819e92",
   "metadata": {},
   "outputs": [
    {
     "data": {
      "text/plain": [
       "9"
      ]
     },
     "execution_count": 106,
     "metadata": {},
     "output_type": "execute_result"
    }
   ],
   "source": [
    "max(lst)"
   ]
  },
  {
   "cell_type": "markdown",
   "id": "4454df69-81f9-4c7a-9c5e-c7d0489512db",
   "metadata": {},
   "source": [
    "# SETS"
   ]
  },
  {
   "cell_type": "markdown",
   "id": "e37c08c4-e099-47fa-8924-6dccf239e120",
   "metadata": {},
   "source": [
    "- it does not allow duplicate values"
   ]
  },
  {
   "cell_type": "code",
   "execution_count": 5,
   "id": "e45fc262-44cc-4a01-9f22-fd0c3629efb6",
   "metadata": {},
   "outputs": [
    {
     "name": "stdout",
     "output_type": "stream",
     "text": [
      "set()\n",
      "<class 'set'>\n"
     ]
    }
   ],
   "source": [
    "set_var=set ()\n",
    "print(set_var)\n",
    "print(type(set_var))\n",
    "\n"
   ]
  },
  {
   "cell_type": "code",
   "execution_count": 11,
   "id": "d5828634-2bbc-4e50-8005-6d35c1e31ead",
   "metadata": {},
   "outputs": [
    {
     "name": "stdout",
     "output_type": "stream",
     "text": [
      "{'Batman', 'Ironman', 'Avengers'}\n"
     ]
    }
   ],
   "source": [
    "set_var={\"Avengers\",\"Ironman\",\"Batman\",\"Batman\"}\n",
    "set_var\n",
    "type(set_var)\n",
    "print(set_var)"
   ]
  },
  {
   "cell_type": "code",
   "execution_count": 15,
   "id": "2fcd39fe-b8c1-49ff-b7b2-420911d7bf94",
   "metadata": {},
   "outputs": [
    {
     "data": {
      "text/plain": [
       "{'Avengers', 'Batman', 'Hulk', 'Ironman'}"
      ]
     },
     "execution_count": 15,
     "metadata": {},
     "output_type": "execute_result"
    }
   ],
   "source": [
    "set_var.add(\"Hulk\")\n",
    "set_var\n"
   ]
  },
  {
   "cell_type": "code",
   "execution_count": 19,
   "id": "eb1846ce-f62c-4b1d-968e-074654d478c9",
   "metadata": {},
   "outputs": [
    {
     "name": "stdout",
     "output_type": "stream",
     "text": [
      "{'Batman', 'Ironman', 'Avengers', 'Hulk'}\n"
     ]
    }
   ],
   "source": [
    "set1={\"Avengers\",\"Ironman\",\"Batman\",\"Batman\"}\n",
    "set2={\"Avengers\",\"Ironman\",\"Batman\",\"Hulk\"}\n",
    "\n",
    "set2.difference(set1)\n",
    "print(set2)"
   ]
  },
  {
   "cell_type": "code",
   "execution_count": 21,
   "id": "dd1f6331-ff98-4278-a587-330de26962bc",
   "metadata": {},
   "outputs": [],
   "source": [
    "set2.difference_update(set1)"
   ]
  },
  {
   "cell_type": "code",
   "execution_count": 23,
   "id": "1916711c-b782-41a0-8cdc-15d0f0f19522",
   "metadata": {},
   "outputs": [
    {
     "name": "stdout",
     "output_type": "stream",
     "text": [
      "{'Hulk'}\n"
     ]
    }
   ],
   "source": [
    "print(set2)"
   ]
  },
  {
   "cell_type": "markdown",
   "id": "5bce2eea-5f07-4e96-bf1b-1b8676078de0",
   "metadata": {},
   "source": [
    "# DICTIONARIES"
   ]
  },
  {
   "cell_type": "code",
   "execution_count": 42,
   "id": "9b3a2a6a-2e70-4fc1-ac00-fac3efb8285a",
   "metadata": {},
   "outputs": [
    {
     "data": {
      "text/plain": [
       "'Audi'"
      ]
     },
     "execution_count": 42,
     "metadata": {},
     "output_type": "execute_result"
    }
   ],
   "source": [
    "my_dict={\"car1\":\"Audi\",\"car2\":\"Mercedies\",\"car3\":\"Tata Safari\"}\n",
    "my_dict[\"car1\"]"
   ]
  },
  {
   "cell_type": "code",
   "execution_count": null,
   "id": "2098c014-3ac6-42ea-b9f9-e0b3a2b8a3b9",
   "metadata": {},
   "outputs": [],
   "source": []
  },
  {
   "cell_type": "code",
   "execution_count": 44,
   "id": "c9c77605-52c8-4cc8-8324-747157e1ecf7",
   "metadata": {},
   "outputs": [
    {
     "name": "stdout",
     "output_type": "stream",
     "text": [
      "car1\n",
      "car2\n",
      "car3\n"
     ]
    }
   ],
   "source": [
    "# using loops in dictionaries\n",
    "for x in my_dict:\n",
    "    print(x)"
   ]
  },
  {
   "cell_type": "code",
   "execution_count": 52,
   "id": "a833f521-c669-435a-86a9-9bb39963705c",
   "metadata": {},
   "outputs": [
    {
     "name": "stdout",
     "output_type": "stream",
     "text": [
      "Audi\n",
      "Mercedies\n",
      "Tata Safari\n"
     ]
    }
   ],
   "source": [
    "for x in my_dict.values():\n",
    "    print(x)"
   ]
  },
  {
   "cell_type": "code",
   "execution_count": 48,
   "id": "35dcb9df-3fe4-46f4-9c96-4d39f2bbdf4c",
   "metadata": {},
   "outputs": [
    {
     "name": "stdout",
     "output_type": "stream",
     "text": [
      "('car1', 'Audi')\n",
      "('car2', 'Mercedies')\n",
      "('car3', 'Tata Safari')\n"
     ]
    }
   ],
   "source": [
    "for x in my_dict.items():\n",
    "    print(x)"
   ]
  },
  {
   "cell_type": "code",
   "execution_count": 54,
   "id": "955ada96-a392-4586-95b0-fcd30c1b11e0",
   "metadata": {},
   "outputs": [
    {
     "data": {
      "text/plain": [
       "{'car1': 'Audi', 'car2': 'Mercedies', 'car3': 'Tata Safari', 'car4': 'BMW'}"
      ]
     },
     "execution_count": 54,
     "metadata": {},
     "output_type": "execute_result"
    }
   ],
   "source": [
    "#Adding items in dictionaries\n",
    "my_dict['car4']='BMW'\n",
    "my_dict"
   ]
  },
  {
   "cell_type": "code",
   "execution_count": 56,
   "id": "a999d037-1201-4543-8b92-f040e0fcca9b",
   "metadata": {},
   "outputs": [
    {
     "data": {
      "text/plain": [
       "{'car1': 'Tata', 'car2': 'Mercedies', 'car3': 'Tata Safari', 'car4': 'BMW'}"
      ]
     },
     "execution_count": 56,
     "metadata": {},
     "output_type": "execute_result"
    }
   ],
   "source": [
    "my_dict['car1']=\"Tata\"\n",
    "my_dict"
   ]
  },
  {
   "cell_type": "markdown",
   "id": "8ff2e04a-9f4c-4b36-a282-489a2cef8614",
   "metadata": {},
   "source": [
    "# NESTED DICTIONARY"
   ]
  },
  {
   "cell_type": "code",
   "execution_count": 60,
   "id": "c2fd32fe-e7cd-4856-bf83-9d4b9033d6d5",
   "metadata": {},
   "outputs": [
    {
     "name": "stdout",
     "output_type": "stream",
     "text": [
      "{'car1': {'Mercedes': 1960}, 'car2': {'Audi': 1965}, 'car3': {'BMW': 1980}}\n"
     ]
    }
   ],
   "source": [
    "car1_model={\"Mercedes\":1960}\n",
    "car2_model={\"Audi\":1965}\n",
    "car3_model={\"BMW\":1980}\n",
    "\n",
    "\n",
    "car_type={'car1':car1_model,'car2':car2_model,'car3':car3_model}\n",
    "print(car_type)\n"
   ]
  },
  {
   "cell_type": "code",
   "execution_count": 64,
   "id": "11f2f1d5-042d-4f60-a5dc-baca67cd28af",
   "metadata": {},
   "outputs": [
    {
     "name": "stdout",
     "output_type": "stream",
     "text": [
      "{'Mercedes': 1960}\n"
     ]
    }
   ],
   "source": [
    "print(car_type['car1'])"
   ]
  },
  {
   "cell_type": "code",
   "execution_count": 66,
   "id": "1d7c4599-a40d-4c7d-a269-7efe78654c3b",
   "metadata": {},
   "outputs": [
    {
     "name": "stdout",
     "output_type": "stream",
     "text": [
      "1960\n"
     ]
    }
   ],
   "source": [
    "print(car_type['car1']['Mercedes'])"
   ]
  },
  {
   "cell_type": "markdown",
   "id": "6aeae18f-f2e2-4d31-98aa-659973977a1e",
   "metadata": {},
   "source": [
    "## TUPLES"
   ]
  },
  {
   "cell_type": "markdown",
   "id": "20a40b70-2abb-4274-8d28-ed1f843da69a",
   "metadata": {},
   "source": [
    "- IT IS IMMUTABLE"
   ]
  },
  {
   "cell_type": "code",
   "execution_count": 72,
   "id": "4bd80434-fe73-445a-9a21-c8773059e9b4",
   "metadata": {},
   "outputs": [
    {
     "data": {
      "text/plain": [
       "('Riya', 'John', 'Alita')"
      ]
     },
     "execution_count": 72,
     "metadata": {},
     "output_type": "execute_result"
    }
   ],
   "source": [
    "my_tuple=(\"Riya\",\"John\",\"Alita\")\n",
    "my_tuple"
   ]
  },
  {
   "cell_type": "code",
   "execution_count": 74,
   "id": "760b7c53-44c6-4754-97c1-c37d080dd83f",
   "metadata": {},
   "outputs": [
    {
     "data": {
      "text/plain": [
       "'Riya'"
      ]
     },
     "execution_count": 74,
     "metadata": {},
     "output_type": "execute_result"
    }
   ],
   "source": [
    "my_tuple[0]"
   ]
  },
  {
   "cell_type": "code",
   "execution_count": 76,
   "id": "f34440af-781d-473a-8f46-1b8f5a60c80f",
   "metadata": {},
   "outputs": [
    {
     "ename": "TypeError",
     "evalue": "'tuple' object does not support item assignment",
     "output_type": "error",
     "traceback": [
      "\u001b[1;31m---------------------------------------------------------------------------\u001b[0m",
      "\u001b[1;31mTypeError\u001b[0m                                 Traceback (most recent call last)",
      "Cell \u001b[1;32mIn[76], line 1\u001b[0m\n\u001b[1;32m----> 1\u001b[0m my_tuple[\u001b[38;5;241m1\u001b[39m]\u001b[38;5;241m=\u001b[39m\u001b[38;5;124m\"\u001b[39m\u001b[38;5;124mAGAM\u001b[39m\u001b[38;5;124m\"\u001b[39m\n",
      "\u001b[1;31mTypeError\u001b[0m: 'tuple' object does not support item assignment"
     ]
    }
   ],
   "source": [
    "my_tuple[1]=\"AGAM\""
   ]
  },
  {
   "cell_type": "code",
   "execution_count": null,
   "id": "dd572228-7c03-4d64-ac9c-24e2d0983b5f",
   "metadata": {},
   "outputs": [],
   "source": []
  }
 ],
 "metadata": {
  "kernelspec": {
   "display_name": "Python 3 (ipykernel)",
   "language": "python",
   "name": "python3"
  },
  "language_info": {
   "codemirror_mode": {
    "name": "ipython",
    "version": 3
   },
   "file_extension": ".py",
   "mimetype": "text/x-python",
   "name": "python",
   "nbconvert_exporter": "python",
   "pygments_lexer": "ipython3",
   "version": "3.12.7"
  }
 },
 "nbformat": 4,
 "nbformat_minor": 5
}
