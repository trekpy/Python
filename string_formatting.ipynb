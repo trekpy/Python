{
 "cells": [
  {
   "cell_type": "code",
   "execution_count": 4,
   "id": "54d47d3e-92e7-4509-b411-87f585cb8110",
   "metadata": {},
   "outputs": [
    {
     "data": {
      "text/plain": [
       "'hello 3 welcome to my home'"
      ]
     },
     "execution_count": 4,
     "metadata": {},
     "output_type": "execute_result"
    }
   ],
   "source": [
    "def greeting(name):\n",
    "    return \"hello {} welcome to my home\".format(name)  #whatever value we will pass as a parameter in .format it will automatically set in place of {}\n",
    "greeting('riya')    "
   ]
  },
  {
   "cell_type": "code",
   "execution_count": 10,
   "id": "60ef018e-e31c-4889-962f-4d3f6beb483c",
   "metadata": {},
   "outputs": [
    {
     "data": {
      "text/plain": [
       "'welcome riya , your age is 20'"
      ]
     },
     "execution_count": 10,
     "metadata": {},
     "output_type": "execute_result"
    }
   ],
   "source": [
    "def welcome1(name ,age):\n",
    "    return \"welcome {} , your age is {}\".format(name,age)\n",
    "welcome1('riya',20)    "
   ]
  },
  {
   "cell_type": "code",
   "execution_count": 12,
   "id": "74c85e67-1a3c-4cfe-8609-5def95be096f",
   "metadata": {},
   "outputs": [
    {
     "data": {
      "text/plain": [
       "'welcome 20 , your age is riya'"
      ]
     },
     "execution_count": 12,
     "metadata": {},
     "output_type": "execute_result"
    }
   ],
   "source": [
    "def welcome1(name ,age):\n",
    "    return \"welcome {} , your age is {}\".format(age,name)\n",
    "welcome1('riya',20)    #so it will give some inordered things so to overcome this"
   ]
  },
  {
   "cell_type": "code",
   "execution_count": 18,
   "id": "1638573c-1aa6-464b-b421-c1b23df080be",
   "metadata": {},
   "outputs": [
    {
     "data": {
      "text/plain": [
       "'welcome riya , your age is 20'"
      ]
     },
     "execution_count": 18,
     "metadata": {},
     "output_type": "execute_result"
    }
   ],
   "source": [
    "def welcome1(name ,age):\n",
    "    return \"welcome {name1} , your age is {age1}\".format(age1=age,name1=name)\n",
    "welcome1('riya',20)    "
   ]
  },
  {
   "cell_type": "code",
   "execution_count": null,
   "id": "2c6bb698-2aee-4e9c-909b-8fa16a117467",
   "metadata": {},
   "outputs": [],
   "source": []
  }
 ],
 "metadata": {
  "kernelspec": {
   "display_name": "Python 3 (ipykernel)",
   "language": "python",
   "name": "python3"
  },
  "language_info": {
   "codemirror_mode": {
    "name": "ipython",
    "version": 3
   },
   "file_extension": ".py",
   "mimetype": "text/x-python",
   "name": "python",
   "nbconvert_exporter": "python",
   "pygments_lexer": "ipython3",
   "version": "3.12.7"
  }
 },
 "nbformat": 4,
 "nbformat_minor": 5
}
